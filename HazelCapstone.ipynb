{
  "nbformat": 4,
  "nbformat_minor": 0,
  "metadata": {
    "colab": {
      "provenance": []
    },
    "kernelspec": {
      "name": "python3",
      "display_name": "Python 3"
    },
    "language_info": {
      "name": "python"
    }
  },
  "cells": [
    {
      "cell_type": "code",
      "execution_count": null,
      "metadata": {
        "id": "PgRkHmJPPQvz",
        "colab": {
          "base_uri": "https://localhost:8080/"
        },
        "outputId": "6280af9c-5343-4de0-902b-9106ed1a8694"
      },
      "outputs": [
        {
          "output_type": "stream",
          "name": "stdout",
          "text": [
            "Drive already mounted at /content/drive; to attempt to forcibly remount, call drive.mount(\"/content/drive\", force_remount=True).\n"
          ]
        }
      ],
      "source": [
        "import pandas as pd\n",
        "from google.colab import drive\n",
        "drive.mount('/content/drive')"
      ]
    },
    {
      "cell_type": "code",
      "source": [
        "basefolder = \"/content/drive/MyDrive/AIML_Projects/CapstoneData/Dataset/\"\n",
        "germanfiles = [\"commoncrawl_de_en.txt\",\"europarl-v7_de_en.txt\",\"news-commentary-v9_de_en.txt\"]\n",
        "engfiles =[\"commoncrawl_en_de.txt\",\"europarl-v7_en_de.txt\",\"news-commentary-v9_en_de.txt\"]"
      ],
      "metadata": {
        "id": "ub70xOYyabZg"
      },
      "execution_count": null,
      "outputs": []
    },
    {
      "cell_type": "code",
      "source": [
        "def read_files(fileloc, language):\n",
        "  with open(fileloc,\"rb\") as f:\n",
        "    f_lines = f.readlines()\n",
        "  df = pd.DataFrame(f_lines)\n",
        "  dfc = df.set_axis([language],axis=1)\n",
        "  dfc[language] = dfc[language].str.decode(\"utf-8\")\n",
        "  return dfc"
      ],
      "metadata": {
        "id": "cPwj8LKSWLGc"
      },
      "execution_count": null,
      "outputs": []
    },
    {
      "cell_type": "code",
      "source": [
        "dfappend=pd.DataFrame()\n",
        "for efile in range(len(germanfiles)):\n",
        "  germanfilepath = basefolder+germanfiles[efile]\n",
        "  print(germanfilepath)\n",
        "  germandff = read_files(germanfilepath,\"german\")\n",
        "  engfilepath = basefolder+engfiles[efile]\n",
        "  engdff = read_files(engfilepath,\"english\")\n",
        "  print(germandff.shape)\n",
        "  print(engdff.shape)\n",
        "  dfconcat = pd.concat([germandff, engdff],axis=\"columns\")\n",
        "  dfappend=pd.concat([dfappend, dfconcat])\n"
      ],
      "metadata": {
        "colab": {
          "base_uri": "https://localhost:8080/"
        },
        "id": "IgpNB2ZYbYBt",
        "outputId": "640b8e12-5053-42bb-e697-049e88e91847"
      },
      "execution_count": null,
      "outputs": [
        {
          "output_type": "stream",
          "name": "stdout",
          "text": [
            "/content/drive/MyDrive/AIML_Projects/CapstoneData/Dataset/commoncrawl_de_en.txt\n",
            "(2399123, 1)\n",
            "(2399123, 1)\n",
            "/content/drive/MyDrive/AIML_Projects/CapstoneData/Dataset/europarl-v7_de_en.txt\n",
            "(1920209, 1)\n",
            "(1920209, 1)\n",
            "/content/drive/MyDrive/AIML_Projects/CapstoneData/Dataset/news-commentary-v9_de_en.txt\n",
            "(201288, 1)\n",
            "(201288, 1)\n"
          ]
        }
      ]
    },
    {
      "cell_type": "code",
      "source": [
        "dfappend.shape"
      ],
      "metadata": {
        "colab": {
          "base_uri": "https://localhost:8080/"
        },
        "id": "SsbHI85UeZoT",
        "outputId": "c7236101-469d-4e2b-949a-af5ddb577d70"
      },
      "execution_count": null,
      "outputs": [
        {
          "output_type": "execute_result",
          "data": {
            "text/plain": [
              "(4520620, 2)"
            ]
          },
          "metadata": {},
          "execution_count": 5
        }
      ]
    },
    {
      "cell_type": "code",
      "source": [
        "dfappend.head()"
      ],
      "metadata": {
        "id": "Ocv08lywmMOX",
        "outputId": "9a1b06f4-1340-413b-ac03-cb1f3891a9dc",
        "colab": {
          "base_uri": "https://localhost:8080/",
          "height": 206
        }
      },
      "execution_count": null,
      "outputs": [
        {
          "output_type": "execute_result",
          "data": {
            "text/plain": [
              "                                              german  \\\n",
              "0  iron cement ist eine gebrauchs-fertige Paste, ...   \n",
              "1  Nach der Aushärtung schützt iron cement die Ko...   \n",
              "2  feuerfester Reparaturkitt für Feuerungsanlagen...   \n",
              "3     Der Bau und die Reparatur der Autostraßen...\\n   \n",
              "4  die Mitteilungen sollen den geschäftlichen kom...   \n",
              "\n",
              "                                             english  \n",
              "0  iron cement is a ready for use paste which is ...  \n",
              "1  iron cement protects the ingot against the hot...  \n",
              "2  a fire restant repair cement for fire places, ...  \n",
              "3       Construction and repair of highways and...\\n  \n",
              "4    An announcement must be commercial character.\\n  "
            ],
            "text/html": [
              "\n",
              "  <div id=\"df-f2226024-2926-47fc-ae3f-b2927e61e146\" class=\"colab-df-container\">\n",
              "    <div>\n",
              "<style scoped>\n",
              "    .dataframe tbody tr th:only-of-type {\n",
              "        vertical-align: middle;\n",
              "    }\n",
              "\n",
              "    .dataframe tbody tr th {\n",
              "        vertical-align: top;\n",
              "    }\n",
              "\n",
              "    .dataframe thead th {\n",
              "        text-align: right;\n",
              "    }\n",
              "</style>\n",
              "<table border=\"1\" class=\"dataframe\">\n",
              "  <thead>\n",
              "    <tr style=\"text-align: right;\">\n",
              "      <th></th>\n",
              "      <th>german</th>\n",
              "      <th>english</th>\n",
              "    </tr>\n",
              "  </thead>\n",
              "  <tbody>\n",
              "    <tr>\n",
              "      <th>0</th>\n",
              "      <td>iron cement ist eine gebrauchs-fertige Paste, ...</td>\n",
              "      <td>iron cement is a ready for use paste which is ...</td>\n",
              "    </tr>\n",
              "    <tr>\n",
              "      <th>1</th>\n",
              "      <td>Nach der Aushärtung schützt iron cement die Ko...</td>\n",
              "      <td>iron cement protects the ingot against the hot...</td>\n",
              "    </tr>\n",
              "    <tr>\n",
              "      <th>2</th>\n",
              "      <td>feuerfester Reparaturkitt für Feuerungsanlagen...</td>\n",
              "      <td>a fire restant repair cement for fire places, ...</td>\n",
              "    </tr>\n",
              "    <tr>\n",
              "      <th>3</th>\n",
              "      <td>Der Bau und die Reparatur der Autostraßen...\\n</td>\n",
              "      <td>Construction and repair of highways and...\\n</td>\n",
              "    </tr>\n",
              "    <tr>\n",
              "      <th>4</th>\n",
              "      <td>die Mitteilungen sollen den geschäftlichen kom...</td>\n",
              "      <td>An announcement must be commercial character.\\n</td>\n",
              "    </tr>\n",
              "  </tbody>\n",
              "</table>\n",
              "</div>\n",
              "    <div class=\"colab-df-buttons\">\n",
              "\n",
              "  <div class=\"colab-df-container\">\n",
              "    <button class=\"colab-df-convert\" onclick=\"convertToInteractive('df-f2226024-2926-47fc-ae3f-b2927e61e146')\"\n",
              "            title=\"Convert this dataframe to an interactive table.\"\n",
              "            style=\"display:none;\">\n",
              "\n",
              "  <svg xmlns=\"http://www.w3.org/2000/svg\" height=\"24px\" viewBox=\"0 -960 960 960\">\n",
              "    <path d=\"M120-120v-720h720v720H120Zm60-500h600v-160H180v160Zm220 220h160v-160H400v160Zm0 220h160v-160H400v160ZM180-400h160v-160H180v160Zm440 0h160v-160H620v160ZM180-180h160v-160H180v160Zm440 0h160v-160H620v160Z\"/>\n",
              "  </svg>\n",
              "    </button>\n",
              "\n",
              "  <style>\n",
              "    .colab-df-container {\n",
              "      display:flex;\n",
              "      gap: 12px;\n",
              "    }\n",
              "\n",
              "    .colab-df-convert {\n",
              "      background-color: #E8F0FE;\n",
              "      border: none;\n",
              "      border-radius: 50%;\n",
              "      cursor: pointer;\n",
              "      display: none;\n",
              "      fill: #1967D2;\n",
              "      height: 32px;\n",
              "      padding: 0 0 0 0;\n",
              "      width: 32px;\n",
              "    }\n",
              "\n",
              "    .colab-df-convert:hover {\n",
              "      background-color: #E2EBFA;\n",
              "      box-shadow: 0px 1px 2px rgba(60, 64, 67, 0.3), 0px 1px 3px 1px rgba(60, 64, 67, 0.15);\n",
              "      fill: #174EA6;\n",
              "    }\n",
              "\n",
              "    .colab-df-buttons div {\n",
              "      margin-bottom: 4px;\n",
              "    }\n",
              "\n",
              "    [theme=dark] .colab-df-convert {\n",
              "      background-color: #3B4455;\n",
              "      fill: #D2E3FC;\n",
              "    }\n",
              "\n",
              "    [theme=dark] .colab-df-convert:hover {\n",
              "      background-color: #434B5C;\n",
              "      box-shadow: 0px 1px 3px 1px rgba(0, 0, 0, 0.15);\n",
              "      filter: drop-shadow(0px 1px 2px rgba(0, 0, 0, 0.3));\n",
              "      fill: #FFFFFF;\n",
              "    }\n",
              "  </style>\n",
              "\n",
              "    <script>\n",
              "      const buttonEl =\n",
              "        document.querySelector('#df-f2226024-2926-47fc-ae3f-b2927e61e146 button.colab-df-convert');\n",
              "      buttonEl.style.display =\n",
              "        google.colab.kernel.accessAllowed ? 'block' : 'none';\n",
              "\n",
              "      async function convertToInteractive(key) {\n",
              "        const element = document.querySelector('#df-f2226024-2926-47fc-ae3f-b2927e61e146');\n",
              "        const dataTable =\n",
              "          await google.colab.kernel.invokeFunction('convertToInteractive',\n",
              "                                                    [key], {});\n",
              "        if (!dataTable) return;\n",
              "\n",
              "        const docLinkHtml = 'Like what you see? Visit the ' +\n",
              "          '<a target=\"_blank\" href=https://colab.research.google.com/notebooks/data_table.ipynb>data table notebook</a>'\n",
              "          + ' to learn more about interactive tables.';\n",
              "        element.innerHTML = '';\n",
              "        dataTable['output_type'] = 'display_data';\n",
              "        await google.colab.output.renderOutput(dataTable, element);\n",
              "        const docLink = document.createElement('div');\n",
              "        docLink.innerHTML = docLinkHtml;\n",
              "        element.appendChild(docLink);\n",
              "      }\n",
              "    </script>\n",
              "  </div>\n",
              "\n",
              "\n",
              "<div id=\"df-ddb0c1b7-cf01-482f-9e21-9089efac6eb3\">\n",
              "  <button class=\"colab-df-quickchart\" onclick=\"quickchart('df-ddb0c1b7-cf01-482f-9e21-9089efac6eb3')\"\n",
              "            title=\"Suggest charts\"\n",
              "            style=\"display:none;\">\n",
              "\n",
              "<svg xmlns=\"http://www.w3.org/2000/svg\" height=\"24px\"viewBox=\"0 0 24 24\"\n",
              "     width=\"24px\">\n",
              "    <g>\n",
              "        <path d=\"M19 3H5c-1.1 0-2 .9-2 2v14c0 1.1.9 2 2 2h14c1.1 0 2-.9 2-2V5c0-1.1-.9-2-2-2zM9 17H7v-7h2v7zm4 0h-2V7h2v10zm4 0h-2v-4h2v4z\"/>\n",
              "    </g>\n",
              "</svg>\n",
              "  </button>\n",
              "\n",
              "<style>\n",
              "  .colab-df-quickchart {\n",
              "      --bg-color: #E8F0FE;\n",
              "      --fill-color: #1967D2;\n",
              "      --hover-bg-color: #E2EBFA;\n",
              "      --hover-fill-color: #174EA6;\n",
              "      --disabled-fill-color: #AAA;\n",
              "      --disabled-bg-color: #DDD;\n",
              "  }\n",
              "\n",
              "  [theme=dark] .colab-df-quickchart {\n",
              "      --bg-color: #3B4455;\n",
              "      --fill-color: #D2E3FC;\n",
              "      --hover-bg-color: #434B5C;\n",
              "      --hover-fill-color: #FFFFFF;\n",
              "      --disabled-bg-color: #3B4455;\n",
              "      --disabled-fill-color: #666;\n",
              "  }\n",
              "\n",
              "  .colab-df-quickchart {\n",
              "    background-color: var(--bg-color);\n",
              "    border: none;\n",
              "    border-radius: 50%;\n",
              "    cursor: pointer;\n",
              "    display: none;\n",
              "    fill: var(--fill-color);\n",
              "    height: 32px;\n",
              "    padding: 0;\n",
              "    width: 32px;\n",
              "  }\n",
              "\n",
              "  .colab-df-quickchart:hover {\n",
              "    background-color: var(--hover-bg-color);\n",
              "    box-shadow: 0 1px 2px rgba(60, 64, 67, 0.3), 0 1px 3px 1px rgba(60, 64, 67, 0.15);\n",
              "    fill: var(--button-hover-fill-color);\n",
              "  }\n",
              "\n",
              "  .colab-df-quickchart-complete:disabled,\n",
              "  .colab-df-quickchart-complete:disabled:hover {\n",
              "    background-color: var(--disabled-bg-color);\n",
              "    fill: var(--disabled-fill-color);\n",
              "    box-shadow: none;\n",
              "  }\n",
              "\n",
              "  .colab-df-spinner {\n",
              "    border: 2px solid var(--fill-color);\n",
              "    border-color: transparent;\n",
              "    border-bottom-color: var(--fill-color);\n",
              "    animation:\n",
              "      spin 1s steps(1) infinite;\n",
              "  }\n",
              "\n",
              "  @keyframes spin {\n",
              "    0% {\n",
              "      border-color: transparent;\n",
              "      border-bottom-color: var(--fill-color);\n",
              "      border-left-color: var(--fill-color);\n",
              "    }\n",
              "    20% {\n",
              "      border-color: transparent;\n",
              "      border-left-color: var(--fill-color);\n",
              "      border-top-color: var(--fill-color);\n",
              "    }\n",
              "    30% {\n",
              "      border-color: transparent;\n",
              "      border-left-color: var(--fill-color);\n",
              "      border-top-color: var(--fill-color);\n",
              "      border-right-color: var(--fill-color);\n",
              "    }\n",
              "    40% {\n",
              "      border-color: transparent;\n",
              "      border-right-color: var(--fill-color);\n",
              "      border-top-color: var(--fill-color);\n",
              "    }\n",
              "    60% {\n",
              "      border-color: transparent;\n",
              "      border-right-color: var(--fill-color);\n",
              "    }\n",
              "    80% {\n",
              "      border-color: transparent;\n",
              "      border-right-color: var(--fill-color);\n",
              "      border-bottom-color: var(--fill-color);\n",
              "    }\n",
              "    90% {\n",
              "      border-color: transparent;\n",
              "      border-bottom-color: var(--fill-color);\n",
              "    }\n",
              "  }\n",
              "</style>\n",
              "\n",
              "  <script>\n",
              "    async function quickchart(key) {\n",
              "      const quickchartButtonEl =\n",
              "        document.querySelector('#' + key + ' button');\n",
              "      quickchartButtonEl.disabled = true;  // To prevent multiple clicks.\n",
              "      quickchartButtonEl.classList.add('colab-df-spinner');\n",
              "      try {\n",
              "        const charts = await google.colab.kernel.invokeFunction(\n",
              "            'suggestCharts', [key], {});\n",
              "      } catch (error) {\n",
              "        console.error('Error during call to suggestCharts:', error);\n",
              "      }\n",
              "      quickchartButtonEl.classList.remove('colab-df-spinner');\n",
              "      quickchartButtonEl.classList.add('colab-df-quickchart-complete');\n",
              "    }\n",
              "    (() => {\n",
              "      let quickchartButtonEl =\n",
              "        document.querySelector('#df-ddb0c1b7-cf01-482f-9e21-9089efac6eb3 button');\n",
              "      quickchartButtonEl.style.display =\n",
              "        google.colab.kernel.accessAllowed ? 'block' : 'none';\n",
              "    })();\n",
              "  </script>\n",
              "</div>\n",
              "    </div>\n",
              "  </div>\n"
            ]
          },
          "metadata": {},
          "execution_count": 6
        }
      ]
    },
    {
      "cell_type": "code",
      "source": [
        "#check for nulls\n",
        "dfappend.isna().sum()"
      ],
      "metadata": {
        "colab": {
          "base_uri": "https://localhost:8080/"
        },
        "id": "QScA5o-SB-yi",
        "outputId": "081b017b-0308-4c90-e101-76570e262192"
      },
      "execution_count": null,
      "outputs": [
        {
          "output_type": "execute_result",
          "data": {
            "text/plain": [
              "german     0\n",
              "english    0\n",
              "dtype: int64"
            ]
          },
          "metadata": {},
          "execution_count": 7
        }
      ]
    },
    {
      "cell_type": "code",
      "source": [
        "dfappend.duplicated().sum()"
      ],
      "metadata": {
        "colab": {
          "base_uri": "https://localhost:8080/"
        },
        "id": "tMkqZZSHa-TU",
        "outputId": "2811d5c9-8939-4c66-dad5-39984ac4b50c"
      },
      "execution_count": null,
      "outputs": [
        {
          "output_type": "execute_result",
          "data": {
            "text/plain": [
              "45510"
            ]
          },
          "metadata": {},
          "execution_count": 8
        }
      ]
    },
    {
      "cell_type": "code",
      "source": [
        "df=dfappend.drop_duplicates(subset=None, keep='first', inplace=False)\n",
        "df.shape"
      ],
      "metadata": {
        "colab": {
          "base_uri": "https://localhost:8080/"
        },
        "id": "n7oN68cBcnZW",
        "outputId": "63f801ea-0673-4696-fe11-b190706c1886"
      },
      "execution_count": null,
      "outputs": [
        {
          "output_type": "execute_result",
          "data": {
            "text/plain": [
              "(4475110, 2)"
            ]
          },
          "metadata": {},
          "execution_count": 9
        }
      ]
    },
    {
      "cell_type": "code",
      "source": [
        "df.describe()"
      ],
      "metadata": {
        "colab": {
          "base_uri": "https://localhost:8080/",
          "height": 175
        },
        "id": "a1Hffq3Ndx68",
        "outputId": "85a51515-b791-4556-9f11-2084e73d8b5b"
      },
      "execution_count": null,
      "outputs": [
        {
          "output_type": "execute_result",
          "data": {
            "text/plain": [
              "         german  english\n",
              "count   4475110  4475110\n",
              "unique  4461515  4399871\n",
              "top          \\n       \\n\n",
              "freq       2621     4324"
            ],
            "text/html": [
              "\n",
              "  <div id=\"df-64aa1485-7e06-4232-b6e4-3df41a3b3e66\" class=\"colab-df-container\">\n",
              "    <div>\n",
              "<style scoped>\n",
              "    .dataframe tbody tr th:only-of-type {\n",
              "        vertical-align: middle;\n",
              "    }\n",
              "\n",
              "    .dataframe tbody tr th {\n",
              "        vertical-align: top;\n",
              "    }\n",
              "\n",
              "    .dataframe thead th {\n",
              "        text-align: right;\n",
              "    }\n",
              "</style>\n",
              "<table border=\"1\" class=\"dataframe\">\n",
              "  <thead>\n",
              "    <tr style=\"text-align: right;\">\n",
              "      <th></th>\n",
              "      <th>german</th>\n",
              "      <th>english</th>\n",
              "    </tr>\n",
              "  </thead>\n",
              "  <tbody>\n",
              "    <tr>\n",
              "      <th>count</th>\n",
              "      <td>4475110</td>\n",
              "      <td>4475110</td>\n",
              "    </tr>\n",
              "    <tr>\n",
              "      <th>unique</th>\n",
              "      <td>4461515</td>\n",
              "      <td>4399871</td>\n",
              "    </tr>\n",
              "    <tr>\n",
              "      <th>top</th>\n",
              "      <td>\\n</td>\n",
              "      <td>\\n</td>\n",
              "    </tr>\n",
              "    <tr>\n",
              "      <th>freq</th>\n",
              "      <td>2621</td>\n",
              "      <td>4324</td>\n",
              "    </tr>\n",
              "  </tbody>\n",
              "</table>\n",
              "</div>\n",
              "    <div class=\"colab-df-buttons\">\n",
              "\n",
              "  <div class=\"colab-df-container\">\n",
              "    <button class=\"colab-df-convert\" onclick=\"convertToInteractive('df-64aa1485-7e06-4232-b6e4-3df41a3b3e66')\"\n",
              "            title=\"Convert this dataframe to an interactive table.\"\n",
              "            style=\"display:none;\">\n",
              "\n",
              "  <svg xmlns=\"http://www.w3.org/2000/svg\" height=\"24px\" viewBox=\"0 -960 960 960\">\n",
              "    <path d=\"M120-120v-720h720v720H120Zm60-500h600v-160H180v160Zm220 220h160v-160H400v160Zm0 220h160v-160H400v160ZM180-400h160v-160H180v160Zm440 0h160v-160H620v160ZM180-180h160v-160H180v160Zm440 0h160v-160H620v160Z\"/>\n",
              "  </svg>\n",
              "    </button>\n",
              "\n",
              "  <style>\n",
              "    .colab-df-container {\n",
              "      display:flex;\n",
              "      gap: 12px;\n",
              "    }\n",
              "\n",
              "    .colab-df-convert {\n",
              "      background-color: #E8F0FE;\n",
              "      border: none;\n",
              "      border-radius: 50%;\n",
              "      cursor: pointer;\n",
              "      display: none;\n",
              "      fill: #1967D2;\n",
              "      height: 32px;\n",
              "      padding: 0 0 0 0;\n",
              "      width: 32px;\n",
              "    }\n",
              "\n",
              "    .colab-df-convert:hover {\n",
              "      background-color: #E2EBFA;\n",
              "      box-shadow: 0px 1px 2px rgba(60, 64, 67, 0.3), 0px 1px 3px 1px rgba(60, 64, 67, 0.15);\n",
              "      fill: #174EA6;\n",
              "    }\n",
              "\n",
              "    .colab-df-buttons div {\n",
              "      margin-bottom: 4px;\n",
              "    }\n",
              "\n",
              "    [theme=dark] .colab-df-convert {\n",
              "      background-color: #3B4455;\n",
              "      fill: #D2E3FC;\n",
              "    }\n",
              "\n",
              "    [theme=dark] .colab-df-convert:hover {\n",
              "      background-color: #434B5C;\n",
              "      box-shadow: 0px 1px 3px 1px rgba(0, 0, 0, 0.15);\n",
              "      filter: drop-shadow(0px 1px 2px rgba(0, 0, 0, 0.3));\n",
              "      fill: #FFFFFF;\n",
              "    }\n",
              "  </style>\n",
              "\n",
              "    <script>\n",
              "      const buttonEl =\n",
              "        document.querySelector('#df-64aa1485-7e06-4232-b6e4-3df41a3b3e66 button.colab-df-convert');\n",
              "      buttonEl.style.display =\n",
              "        google.colab.kernel.accessAllowed ? 'block' : 'none';\n",
              "\n",
              "      async function convertToInteractive(key) {\n",
              "        const element = document.querySelector('#df-64aa1485-7e06-4232-b6e4-3df41a3b3e66');\n",
              "        const dataTable =\n",
              "          await google.colab.kernel.invokeFunction('convertToInteractive',\n",
              "                                                    [key], {});\n",
              "        if (!dataTable) return;\n",
              "\n",
              "        const docLinkHtml = 'Like what you see? Visit the ' +\n",
              "          '<a target=\"_blank\" href=https://colab.research.google.com/notebooks/data_table.ipynb>data table notebook</a>'\n",
              "          + ' to learn more about interactive tables.';\n",
              "        element.innerHTML = '';\n",
              "        dataTable['output_type'] = 'display_data';\n",
              "        await google.colab.output.renderOutput(dataTable, element);\n",
              "        const docLink = document.createElement('div');\n",
              "        docLink.innerHTML = docLinkHtml;\n",
              "        element.appendChild(docLink);\n",
              "      }\n",
              "    </script>\n",
              "  </div>\n",
              "\n",
              "\n",
              "<div id=\"df-c0eae9f0-5f95-41b3-8a47-87ba580dd2f7\">\n",
              "  <button class=\"colab-df-quickchart\" onclick=\"quickchart('df-c0eae9f0-5f95-41b3-8a47-87ba580dd2f7')\"\n",
              "            title=\"Suggest charts\"\n",
              "            style=\"display:none;\">\n",
              "\n",
              "<svg xmlns=\"http://www.w3.org/2000/svg\" height=\"24px\"viewBox=\"0 0 24 24\"\n",
              "     width=\"24px\">\n",
              "    <g>\n",
              "        <path d=\"M19 3H5c-1.1 0-2 .9-2 2v14c0 1.1.9 2 2 2h14c1.1 0 2-.9 2-2V5c0-1.1-.9-2-2-2zM9 17H7v-7h2v7zm4 0h-2V7h2v10zm4 0h-2v-4h2v4z\"/>\n",
              "    </g>\n",
              "</svg>\n",
              "  </button>\n",
              "\n",
              "<style>\n",
              "  .colab-df-quickchart {\n",
              "      --bg-color: #E8F0FE;\n",
              "      --fill-color: #1967D2;\n",
              "      --hover-bg-color: #E2EBFA;\n",
              "      --hover-fill-color: #174EA6;\n",
              "      --disabled-fill-color: #AAA;\n",
              "      --disabled-bg-color: #DDD;\n",
              "  }\n",
              "\n",
              "  [theme=dark] .colab-df-quickchart {\n",
              "      --bg-color: #3B4455;\n",
              "      --fill-color: #D2E3FC;\n",
              "      --hover-bg-color: #434B5C;\n",
              "      --hover-fill-color: #FFFFFF;\n",
              "      --disabled-bg-color: #3B4455;\n",
              "      --disabled-fill-color: #666;\n",
              "  }\n",
              "\n",
              "  .colab-df-quickchart {\n",
              "    background-color: var(--bg-color);\n",
              "    border: none;\n",
              "    border-radius: 50%;\n",
              "    cursor: pointer;\n",
              "    display: none;\n",
              "    fill: var(--fill-color);\n",
              "    height: 32px;\n",
              "    padding: 0;\n",
              "    width: 32px;\n",
              "  }\n",
              "\n",
              "  .colab-df-quickchart:hover {\n",
              "    background-color: var(--hover-bg-color);\n",
              "    box-shadow: 0 1px 2px rgba(60, 64, 67, 0.3), 0 1px 3px 1px rgba(60, 64, 67, 0.15);\n",
              "    fill: var(--button-hover-fill-color);\n",
              "  }\n",
              "\n",
              "  .colab-df-quickchart-complete:disabled,\n",
              "  .colab-df-quickchart-complete:disabled:hover {\n",
              "    background-color: var(--disabled-bg-color);\n",
              "    fill: var(--disabled-fill-color);\n",
              "    box-shadow: none;\n",
              "  }\n",
              "\n",
              "  .colab-df-spinner {\n",
              "    border: 2px solid var(--fill-color);\n",
              "    border-color: transparent;\n",
              "    border-bottom-color: var(--fill-color);\n",
              "    animation:\n",
              "      spin 1s steps(1) infinite;\n",
              "  }\n",
              "\n",
              "  @keyframes spin {\n",
              "    0% {\n",
              "      border-color: transparent;\n",
              "      border-bottom-color: var(--fill-color);\n",
              "      border-left-color: var(--fill-color);\n",
              "    }\n",
              "    20% {\n",
              "      border-color: transparent;\n",
              "      border-left-color: var(--fill-color);\n",
              "      border-top-color: var(--fill-color);\n",
              "    }\n",
              "    30% {\n",
              "      border-color: transparent;\n",
              "      border-left-color: var(--fill-color);\n",
              "      border-top-color: var(--fill-color);\n",
              "      border-right-color: var(--fill-color);\n",
              "    }\n",
              "    40% {\n",
              "      border-color: transparent;\n",
              "      border-right-color: var(--fill-color);\n",
              "      border-top-color: var(--fill-color);\n",
              "    }\n",
              "    60% {\n",
              "      border-color: transparent;\n",
              "      border-right-color: var(--fill-color);\n",
              "    }\n",
              "    80% {\n",
              "      border-color: transparent;\n",
              "      border-right-color: var(--fill-color);\n",
              "      border-bottom-color: var(--fill-color);\n",
              "    }\n",
              "    90% {\n",
              "      border-color: transparent;\n",
              "      border-bottom-color: var(--fill-color);\n",
              "    }\n",
              "  }\n",
              "</style>\n",
              "\n",
              "  <script>\n",
              "    async function quickchart(key) {\n",
              "      const quickchartButtonEl =\n",
              "        document.querySelector('#' + key + ' button');\n",
              "      quickchartButtonEl.disabled = true;  // To prevent multiple clicks.\n",
              "      quickchartButtonEl.classList.add('colab-df-spinner');\n",
              "      try {\n",
              "        const charts = await google.colab.kernel.invokeFunction(\n",
              "            'suggestCharts', [key], {});\n",
              "      } catch (error) {\n",
              "        console.error('Error during call to suggestCharts:', error);\n",
              "      }\n",
              "      quickchartButtonEl.classList.remove('colab-df-spinner');\n",
              "      quickchartButtonEl.classList.add('colab-df-quickchart-complete');\n",
              "    }\n",
              "    (() => {\n",
              "      let quickchartButtonEl =\n",
              "        document.querySelector('#df-c0eae9f0-5f95-41b3-8a47-87ba580dd2f7 button');\n",
              "      quickchartButtonEl.style.display =\n",
              "        google.colab.kernel.accessAllowed ? 'block' : 'none';\n",
              "    })();\n",
              "  </script>\n",
              "</div>\n",
              "    </div>\n",
              "  </div>\n"
            ]
          },
          "metadata": {},
          "execution_count": 10
        }
      ]
    },
    {
      "cell_type": "code",
      "source": [
        "from numpy import array\n",
        "engGer= array(df)"
      ],
      "metadata": {
        "id": "B0l7kxpZTEpJ"
      },
      "execution_count": null,
      "outputs": []
    },
    {
      "cell_type": "code",
      "source": [
        "engGer= engGer[:1500000]\n",
        "engGer"
      ],
      "metadata": {
        "colab": {
          "base_uri": "https://localhost:8080/"
        },
        "id": "hGhlr3lETSoh",
        "outputId": "813144f2-fa42-48f2-ee38-e359321f469b"
      },
      "execution_count": null,
      "outputs": [
        {
          "output_type": "execute_result",
          "data": {
            "text/plain": [
              "array([['iron cement ist eine gebrauchs-fertige Paste, die mit einem Spachtel oder den Fingern als Hohlkehle in die Formecken (Winkel) der Stahlguss -Kokille aufgetragen wird.\\n',\n",
              "        'iron cement is a ready for use paste which is laid as a fillet by putty knife or finger in the mould edges (corners) of the steel ingot mould.\\n'],\n",
              "       ['Nach der Aushärtung schützt iron cement die Kokille gegen den heissen, abrasiven Stahlguss .\\n',\n",
              "        'iron cement protects the ingot against the hot, abrasive steel casting process.\\n'],\n",
              "       ['feuerfester Reparaturkitt für Feuerungsanlagen, Öfen, offene Feuerstellen etc.\\n',\n",
              "        'a fire restant repair cement for fire places, ovens, open fireplaces etc.\\n'],\n",
              "       ...,\n",
              "       ['Wir haben spezielle Pauschalen für Ihren Kurzurlaub , Wanderurlaub , Wellnessurlaub , Skiurlaub oder Golfurlaub zusammengestellt und freuen uns, Sie schon bald hier bei uns am Tristachersee begrüßen zu dürfen!\\n',\n",
              "        'The Parkhotel Tristachersee offers you a wide range of leisure activities: swimming in the lake, playing golf at Dolomitenfolf Lienz, mountain hiking in the region, or exploring the numerous skiing areas. The Parkhotel Tristachersee is your Hotel in Lienz to relax, enjoy and for beeing active.\\n'],\n",
              "       ['IGemütlich tafeln mit Freunde oder Familie? Oder lieber einen korrekten Lunch mit einem Wirtschafspartner?\\n',\n",
              "        'A cosy meal with friends or family ?\\n'],\n",
              "       ['Unsere Bodega heißt Sie herzlich wilkommen in seinem heutigen und erneueren Interieur.\\n',\n",
              "        'Or rather a correct lunch with a business contact?\\n']],\n",
              "      dtype=object)"
            ]
          },
          "metadata": {},
          "execution_count": 12
        }
      ]
    },
    {
      "cell_type": "code",
      "source": [
        "import string\n",
        "engGer[:,0] = [s.translate(str.maketrans('', '', string.punctuation)) for s in engGer[:,0]]\n",
        "engGer[:,1] = [s.translate(str.maketrans('', '', string.punctuation)) for s in engGer[:,1]]"
      ],
      "metadata": {
        "id": "TCy-FsICP3Oq"
      },
      "execution_count": null,
      "outputs": []
    },
    {
      "cell_type": "code",
      "source": [
        "engGer"
      ],
      "metadata": {
        "colab": {
          "base_uri": "https://localhost:8080/"
        },
        "id": "Vu-9Vx12P-AJ",
        "outputId": "60d6d3a8-5c29-4add-f376-3ec916662086"
      },
      "execution_count": null,
      "outputs": [
        {
          "output_type": "execute_result",
          "data": {
            "text/plain": [
              "array([['iron cement ist eine gebrauchsfertige Paste die mit einem Spachtel oder den Fingern als Hohlkehle in die Formecken Winkel der Stahlguss Kokille aufgetragen wird\\n',\n",
              "        'iron cement is a ready for use paste which is laid as a fillet by putty knife or finger in the mould edges corners of the steel ingot mould\\n'],\n",
              "       ['Nach der Aushärtung schützt iron cement die Kokille gegen den heissen abrasiven Stahlguss \\n',\n",
              "        'iron cement protects the ingot against the hot abrasive steel casting process\\n'],\n",
              "       ['feuerfester Reparaturkitt für Feuerungsanlagen Öfen offene Feuerstellen etc\\n',\n",
              "        'a fire restant repair cement for fire places ovens open fireplaces etc\\n'],\n",
              "       ...,\n",
              "       ['Wir haben spezielle Pauschalen für Ihren Kurzurlaub  Wanderurlaub  Wellnessurlaub  Skiurlaub oder Golfurlaub zusammengestellt und freuen uns Sie schon bald hier bei uns am Tristachersee begrüßen zu dürfen\\n',\n",
              "        'The Parkhotel Tristachersee offers you a wide range of leisure activities swimming in the lake playing golf at Dolomitenfolf Lienz mountain hiking in the region or exploring the numerous skiing areas The Parkhotel Tristachersee is your Hotel in Lienz to relax enjoy and for beeing active\\n'],\n",
              "       ['IGemütlich tafeln mit Freunde oder Familie Oder lieber einen korrekten Lunch mit einem Wirtschafspartner\\n',\n",
              "        'A cosy meal with friends or family \\n'],\n",
              "       ['Unsere Bodega heißt Sie herzlich wilkommen in seinem heutigen und erneueren Interieur\\n',\n",
              "        'Or rather a correct lunch with a business contact\\n']],\n",
              "      dtype=object)"
            ]
          },
          "metadata": {},
          "execution_count": 14
        }
      ]
    },
    {
      "cell_type": "code",
      "source": [
        "for i in range(len(engGer)):\n",
        "    engGer[i,0] = engGer[i,0].lower()\n",
        "    engGer[i,1] = engGer[i,1].lower()\n",
        "engGer"
      ],
      "metadata": {
        "colab": {
          "base_uri": "https://localhost:8080/"
        },
        "id": "0a_CFmJPUjJg",
        "outputId": "8f813ff7-88d4-462b-dd3b-53991270ca76"
      },
      "execution_count": null,
      "outputs": [
        {
          "output_type": "execute_result",
          "data": {
            "text/plain": [
              "array([['iron cement ist eine gebrauchsfertige paste die mit einem spachtel oder den fingern als hohlkehle in die formecken winkel der stahlguss kokille aufgetragen wird\\n',\n",
              "        'iron cement is a ready for use paste which is laid as a fillet by putty knife or finger in the mould edges corners of the steel ingot mould\\n'],\n",
              "       ['nach der aushärtung schützt iron cement die kokille gegen den heissen abrasiven stahlguss \\n',\n",
              "        'iron cement protects the ingot against the hot abrasive steel casting process\\n'],\n",
              "       ['feuerfester reparaturkitt für feuerungsanlagen öfen offene feuerstellen etc\\n',\n",
              "        'a fire restant repair cement for fire places ovens open fireplaces etc\\n'],\n",
              "       ...,\n",
              "       ['wir haben spezielle pauschalen für ihren kurzurlaub  wanderurlaub  wellnessurlaub  skiurlaub oder golfurlaub zusammengestellt und freuen uns sie schon bald hier bei uns am tristachersee begrüßen zu dürfen\\n',\n",
              "        'the parkhotel tristachersee offers you a wide range of leisure activities swimming in the lake playing golf at dolomitenfolf lienz mountain hiking in the region or exploring the numerous skiing areas the parkhotel tristachersee is your hotel in lienz to relax enjoy and for beeing active\\n'],\n",
              "       ['igemütlich tafeln mit freunde oder familie oder lieber einen korrekten lunch mit einem wirtschafspartner\\n',\n",
              "        'a cosy meal with friends or family \\n'],\n",
              "       ['unsere bodega heißt sie herzlich wilkommen in seinem heutigen und erneueren interieur\\n',\n",
              "        'or rather a correct lunch with a business contact\\n']],\n",
              "      dtype=object)"
            ]
          },
          "metadata": {},
          "execution_count": 15
        }
      ]
    },
    {
      "cell_type": "code",
      "source": [
        "englist=[]\n",
        "germanlist=[]"
      ],
      "metadata": {
        "id": "9tNwGYP_Vlb8"
      },
      "execution_count": null,
      "outputs": []
    },
    {
      "cell_type": "code",
      "source": [
        "for i in engGer[:,0]:\n",
        "      englist.append(len(i.split()))\n",
        "\n",
        "for i in engGer[:,1]:\n",
        "      germanlist.append(len(i.split()))"
      ],
      "metadata": {
        "id": "H6RTkpyjVmGE"
      },
      "execution_count": null,
      "outputs": []
    },
    {
      "cell_type": "code",
      "source": [
        "df1 = pd.DataFrame(engGer, columns =['German', 'English'])"
      ],
      "metadata": {
        "id": "lTkmll_WR4Xu"
      },
      "execution_count": null,
      "outputs": []
    },
    {
      "cell_type": "code",
      "source": [
        "df1.head"
      ],
      "metadata": {
        "colab": {
          "base_uri": "https://localhost:8080/"
        },
        "id": "JAz_PsFbTcCh",
        "outputId": "5f66d023-47f8-440a-b7d4-5243d931513b"
      },
      "execution_count": null,
      "outputs": [
        {
          "output_type": "execute_result",
          "data": {
            "text/plain": [
              "<bound method NDFrame.head of                                                     German  \\\n",
              "0        iron cement ist eine gebrauchsfertige paste di...   \n",
              "1        nach der aushärtung schützt iron cement die ko...   \n",
              "2        feuerfester reparaturkitt für feuerungsanlagen...   \n",
              "3              der bau und die reparatur der autostraßen\\n   \n",
              "4        die mitteilungen sollen den geschäftlichen kom...   \n",
              "...                                                    ...   \n",
              "1499995  wandern in osttirol gehört zu den ganz speziel...   \n",
              "1499996  ob sie im see schwimmen oder am dolomitengolfp...   \n",
              "1499997  wir haben spezielle pauschalen für ihren kurzu...   \n",
              "1499998  igemütlich tafeln mit freunde oder familie ode...   \n",
              "1499999  unsere bodega heißt sie herzlich wilkommen in ...   \n",
              "\n",
              "                                                   English  \n",
              "0        iron cement is a ready for use paste which is ...  \n",
              "1        iron cement protects the ingot against the hot...  \n",
              "2        a fire restant repair cement for fire places o...  \n",
              "3                construction and repair of highways and\\n  \n",
              "4           an announcement must be commercial character\\n  \n",
              "...                                                    ...  \n",
              "1499995  enjoy a refreshing bath in the lake in summer ...  \n",
              "1499996  these are just two opportunities for your leis...  \n",
              "1499997  the parkhotel tristachersee offers you a wide ...  \n",
              "1499998              a cosy meal with friends or family \\n  \n",
              "1499999  or rather a correct lunch with a business cont...  \n",
              "\n",
              "[1500000 rows x 2 columns]>"
            ]
          },
          "metadata": {},
          "execution_count": 19
        }
      ]
    },
    {
      "cell_type": "code",
      "source": [
        "df1['englishlen'] = df1.English.apply(len)\n",
        "df1['germanlen'] = df1.German.apply(len)"
      ],
      "metadata": {
        "id": "-wYjeou3TtsG"
      },
      "execution_count": null,
      "outputs": []
    },
    {
      "cell_type": "code",
      "source": [
        "import matplotlib.pyplot as plt\n",
        "import seaborn as sns\n",
        "fig, axes = plt.subplots(nrows=1,ncols=2,figsize=(10,4))\n",
        "sns.distplot(df1.englishlen,ax=axes[0])\n",
        "sns.distplot(df1.germanlen,ax=axes[1])"
      ],
      "metadata": {
        "colab": {
          "base_uri": "https://localhost:8080/",
          "height": 812
        },
        "id": "b73hVO12T0en",
        "outputId": "eb3004eb-f32c-4515-f1ae-f14b68b42bcf"
      },
      "execution_count": null,
      "outputs": [
        {
          "output_type": "stream",
          "name": "stderr",
          "text": [
            "<ipython-input-21-bb55c922455a>:4: UserWarning: \n",
            "\n",
            "`distplot` is a deprecated function and will be removed in seaborn v0.14.0.\n",
            "\n",
            "Please adapt your code to use either `displot` (a figure-level function with\n",
            "similar flexibility) or `histplot` (an axes-level function for histograms).\n",
            "\n",
            "For a guide to updating your code to use the new functions, please see\n",
            "https://gist.github.com/mwaskom/de44147ed2974457ad6372750bbe5751\n",
            "\n",
            "  sns.distplot(df1.englishlen,ax=axes[0])\n",
            "<ipython-input-21-bb55c922455a>:5: UserWarning: \n",
            "\n",
            "`distplot` is a deprecated function and will be removed in seaborn v0.14.0.\n",
            "\n",
            "Please adapt your code to use either `displot` (a figure-level function with\n",
            "similar flexibility) or `histplot` (an axes-level function for histograms).\n",
            "\n",
            "For a guide to updating your code to use the new functions, please see\n",
            "https://gist.github.com/mwaskom/de44147ed2974457ad6372750bbe5751\n",
            "\n",
            "  sns.distplot(df1.germanlen,ax=axes[1])\n"
          ]
        },
        {
          "output_type": "execute_result",
          "data": {
            "text/plain": [
              "<Axes: xlabel='germanlen', ylabel='Density'>"
            ]
          },
          "metadata": {},
          "execution_count": 21
        },
        {
          "output_type": "display_data",
          "data": {
            "text/plain": [
              "<Figure size 1000x400 with 2 Axes>"
            ],
            "image/png": "[encoded data removed]"
          },
          "metadata": {}
        }
      ]
    },
    {
      "cell_type": "code",
      "source": [
        "import re\n",
        "def clean_text(text):\n",
        "    text = text.lower()\n",
        "    pattern = re.compile(r\"(@\\[A-Za-z0-9]+)|([^0-9A-Za-z \\t])|(\\w+:\\/\\/\\S+)|^rt|http.+?\")\n",
        "    text = re.sub(pattern,' ',text).strip()\n",
        "    return text"
      ],
      "metadata": {
        "id": "STQgC-soUSRi"
      },
      "execution_count": null,
      "outputs": []
    },
    {
      "cell_type": "code",
      "source": [
        "df1.English = df1.English.apply(clean_text)\n",
        "df1.German = df1.German.apply(clean_text)"
      ],
      "metadata": {
        "id": "TAo0KJdVUtMO"
      },
      "execution_count": null,
      "outputs": []
    },
    {
      "cell_type": "code",
      "source": [
        "from keras.preprocessing.text import Tokenizer\n",
        "from keras.preprocessing.sequence import pad_sequences\n",
        "def tokenization(lines):\n",
        "    tokenizer = Tokenizer()\n",
        "    tokenizer.fit_on_texts(lines)\n",
        "    return tokenizer"
      ],
      "metadata": {
        "id": "Sw5uGzQzVmKA"
      },
      "execution_count": null,
      "outputs": []
    },
    {
      "cell_type": "code",
      "source": [
        "engtokenizer = tokenization(df1.English)\n",
        "vocab_size = len(engtokenizer.word_index) + 1\n",
        "\n",
        "print('English vocab', vocab_size)"
      ],
      "metadata": {
        "colab": {
          "base_uri": "https://localhost:8080/"
        },
        "id": "0cNYqtUnVmM6",
        "outputId": "b47b92da-676a-4035-ba65-aa09d24063da"
      },
      "execution_count": null,
      "outputs": [
        {
          "output_type": "stream",
          "name": "stdout",
          "text": [
            "English vocab 557616\n"
          ]
        }
      ]
    },
    {
      "cell_type": "code",
      "source": [
        "gertokenizer = tokenization(df1.German)\n",
        "vocab_size1 = len(gertokenizer.word_index) + 1\n",
        "\n",
        "print('German vocab', vocab_size1)"
      ],
      "metadata": {
        "colab": {
          "base_uri": "https://localhost:8080/"
        },
        "id": "vh_ldDF4YPdK",
        "outputId": "34d28b0d-07b1-47a7-98bc-43d56ea8207d"
      },
      "execution_count": null,
      "outputs": [
        {
          "output_type": "stream",
          "name": "stdout",
          "text": [
            "German vocab 1029139\n"
          ]
        }
      ]
    },
    {
      "cell_type": "code",
      "source": [
        "def encodeSeq(tokenizer, length, lines):\n",
        "      seq = tokenizer.texts_to_sequences(lines)\n",
        "      seq = pad_sequences(seq, maxlen=length, padding='post')\n",
        "      return seq"
      ],
      "metadata": {
        "id": "5LMQ-3o3VmQM"
      },
      "execution_count": null,
      "outputs": []
    },
    {
      "cell_type": "code",
      "source": [
        "maxlength=40\n",
        "encodeSeq(engtokenizer,maxlength,df1.English)"
      ],
      "metadata": {
        "colab": {
          "base_uri": "https://localhost:8080/"
        },
        "id": "_xGHgc8DY5tx",
        "outputId": "f6546bc4-4b32-4514-dcea-0f325828b1e3"
      },
      "execution_count": null,
      "outputs": [
        {
          "output_type": "execute_result",
          "data": {
            "text/plain": [
              "array([[ 2872, 10220,     7, ...,     0,     0,     0],\n",
              "       [ 2872, 10220,  5751, ...,     0,     0,     0],\n",
              "       [    6,  1572, 90314, ...,     0,     0,     0],\n",
              "       ...,\n",
              "       [  445,   234,     3, ...,     8, 23829,   787],\n",
              "       [    6,  1389,  2327, ...,     0,     0,     0],\n",
              "       [   17,   729,     6, ...,     0,     0,     0]], dtype=int32)"
            ]
          },
          "metadata": {},
          "execution_count": 28
        }
      ]
    },
    {
      "cell_type": "code",
      "source": [
        "encodeSeq(gertokenizer,maxlength,df1.German)"
      ],
      "metadata": {
        "colab": {
          "base_uri": "https://localhost:8080/"
        },
        "id": "vq038GnZZG0i",
        "outputId": "c838733d-212b-402f-fa58-aea3ad85463b"
      },
      "execution_count": null,
      "outputs": [
        {
          "output_type": "execute_result",
          "data": {
            "text/plain": [
              "array([[ 11129,  60791,     13, ...,      0,      0,      0],\n",
              "       [    45,      3,  11008, ...,      0,      0,      0],\n",
              "       [218953, 425199,      9, ...,      0,      0,      0],\n",
              "       ...,\n",
              "       [    36,     58,   1335, ...,      0,      0,      0],\n",
              "       [ 26097,   3203,  21573, ...,      0,      0,      0],\n",
              "       [   111,  29348,    630, ...,      0,      0,      0]], dtype=int32)"
            ]
          },
          "metadata": {},
          "execution_count": 29
        }
      ]
    },
    {
      "cell_type": "code",
      "source": [
        "import nltk\n",
        "from nltk.corpus import stopwords\n",
        "#nltk.download()\n",
        "#stopwords = set(nltk.corpus.stopwords.words('english'))\n",
        "#dfEng = df1['english'].str.lower().apply(lambda x: ' '.join([word for word in str(x).split() if word not in stopwords]))"
      ],
      "metadata": {
        "id": "xV-kPqD0coCi"
      },
      "execution_count": null,
      "outputs": []
    },
    {
      "cell_type": "code",
      "source": [
        "from sklearn.model_selection import train_test_split\n",
        "train_data, test_data = train_test_split(df1, test_size=0.1, random_state = 0)"
      ],
      "metadata": {
        "id": "0tva-bbleSQA"
      },
      "execution_count": null,
      "outputs": []
    },
    {
      "cell_type": "code",
      "source": [
        "train_data.head"
      ],
      "metadata": {
        "colab": {
          "base_uri": "https://localhost:8080/"
        },
        "id": "BEB_Pj_ee8pD",
        "outputId": "73799537-69ab-46b7-e768-2c041eb90183"
      },
      "execution_count": null,
      "outputs": [
        {
          "output_type": "execute_result",
          "data": {
            "text/plain": [
              "<bound method NDFrame.head of                                                     German  \\\n",
              "520509   die cflags und cxxflags variablen definieren d...   \n",
              "1156309  immer wieder  berrascht uns wie viele menschen...   \n",
              "327559   werde benachrichtigt wenn sblankson neue slide...   \n",
              "775869   f r layout 2 haben wir probleme gel st und neu...   \n",
              "592712   id4 gesamtzucker id6bei futtermitteln f r scha...   \n",
              "...                                                    ...   \n",
              "152315   wann m chten sie im innside d sseldorf seester...   \n",
              "963395   richter elektronik ist leiterplattenhersteller...   \n",
              "117952   au erdem ist er jahr f r jahr beim giro ditali...   \n",
              "1484405  beflex design hat f r den tender exklusives ho...   \n",
              "305711   der anstieg gegen ber den vorjahren ergibt sic...   \n",
              "\n",
              "                                                   English  englishlen  \\\n",
              "520509   the cflags and cxxflags variables define the o...         106   \n",
              "1156309  always surprising us again how many people rea...         140   \n",
              "327559          get notified when sblankson adds new stuff          43   \n",
              "775869   for layout 2 weve fixed problems and added som...          75   \n",
              "592712   id4 total sugars id6in case of feedingstuffs f...         130   \n",
              "...                                                    ...         ...   \n",
              "152315   when would you like to stay at the innside d s...          63   \n",
              "963395   richter elektronik is a manufacturer of techno...         313   \n",
              "117952   with his collection of unusual bicycles didi w...          95   \n",
              "1484405  our company was asked for the production of th...         162   \n",
              "305711   this increase compared with previous years is ...         130   \n",
              "\n",
              "         germanlen  \n",
              "520509         107  \n",
              "1156309        155  \n",
              "327559          61  \n",
              "775869          84  \n",
              "592712         135  \n",
              "...            ...  \n",
              "152315          60  \n",
              "963395         233  \n",
              "117952         132  \n",
              "1484405         95  \n",
              "305711         129  \n",
              "\n",
              "[1350000 rows x 4 columns]>"
            ]
          },
          "metadata": {},
          "execution_count": 32
        }
      ]
    },
    {
      "cell_type": "code",
      "source": [
        "#Drop Columns\n",
        "train_data = train_data.drop(columns=['germanlen', 'englishlen'],axis=1)\n",
        "test_data = test_data.drop(columns=['germanlen', 'englishlen'],axis=1)\n",
        "train_data = train_data.reset_index(drop=True)\n",
        "test_data = test_data.reset_index(drop=True)"
      ],
      "metadata": {
        "id": "UOzg_7i3fNvg"
      },
      "execution_count": null,
      "outputs": []
    },
    {
      "cell_type": "code",
      "source": [
        "train_data"
      ],
      "metadata": {
        "colab": {
          "base_uri": "https://localhost:8080/",
          "height": 423
        },
        "id": "T833hrluwVdi",
        "outputId": "d197620b-084b-4f41-c8db-5d5ffdf2a077"
      },
      "execution_count": null,
      "outputs": [
        {
          "output_type": "execute_result",
          "data": {
            "text/plain": [
              "                                                    German  \\\n",
              "0        die cflags und cxxflags variablen definieren d...   \n",
              "1        immer wieder  berrascht uns wie viele menschen...   \n",
              "2        werde benachrichtigt wenn sblankson neue slide...   \n",
              "3        f r layout 2 haben wir probleme gel st und neu...   \n",
              "4        id4 gesamtzucker id6bei futtermitteln f r scha...   \n",
              "...                                                    ...   \n",
              "1349995  wann m chten sie im innside d sseldorf seester...   \n",
              "1349996  richter elektronik ist leiterplattenhersteller...   \n",
              "1349997  au erdem ist er jahr f r jahr beim giro ditali...   \n",
              "1349998  beflex design hat f r den tender exklusives ho...   \n",
              "1349999  der anstieg gegen ber den vorjahren ergibt sic...   \n",
              "\n",
              "                                                   English  \n",
              "0        the cflags and cxxflags variables define the o...  \n",
              "1        always surprising us again how many people rea...  \n",
              "2               get notified when sblankson adds new stuff  \n",
              "3        for layout 2 weve fixed problems and added som...  \n",
              "4        id4 total sugars id6in case of feedingstuffs f...  \n",
              "...                                                    ...  \n",
              "1349995  when would you like to stay at the innside d s...  \n",
              "1349996  richter elektronik is a manufacturer of techno...  \n",
              "1349997  with his collection of unusual bicycles didi w...  \n",
              "1349998  our company was asked for the production of th...  \n",
              "1349999  this increase compared with previous years is ...  \n",
              "\n",
              "[1350000 rows x 2 columns]"
            ],
            "text/html": [
              "\n",
              "  <div id=\"df-b46287a2-1837-4acc-82eb-06d31ecb84c5\" class=\"colab-df-container\">\n",
              "    <div>\n",
              "<style scoped>\n",
              "    .dataframe tbody tr th:only-of-type {\n",
              "        vertical-align: middle;\n",
              "    }\n",
              "\n",
              "    .dataframe tbody tr th {\n",
              "        vertical-align: top;\n",
              "    }\n",
              "\n",
              "    .dataframe thead th {\n",
              "        text-align: right;\n",
              "    }\n",
              "</style>\n",
              "<table border=\"1\" class=\"dataframe\">\n",
              "  <thead>\n",
              "    <tr style=\"text-align: right;\">\n",
              "      <th></th>\n",
              "      <th>German</th>\n",
              "      <th>English</th>\n",
              "    </tr>\n",
              "  </thead>\n",
              "  <tbody>\n",
              "    <tr>\n",
              "      <th>0</th>\n",
              "      <td>die cflags und cxxflags variablen definieren d...</td>\n",
              "      <td>the cflags and cxxflags variables define the o...</td>\n",
              "    </tr>\n",
              "    <tr>\n",
              "      <th>1</th>\n",
              "      <td>immer wieder  berrascht uns wie viele menschen...</td>\n",
              "      <td>always surprising us again how many people rea...</td>\n",
              "    </tr>\n",
              "    <tr>\n",
              "      <th>2</th>\n",
              "      <td>werde benachrichtigt wenn sblankson neue slide...</td>\n",
              "      <td>get notified when sblankson adds new stuff</td>\n",
              "    </tr>\n",
              "    <tr>\n",
              "      <th>3</th>\n",
              "      <td>f r layout 2 haben wir probleme gel st und neu...</td>\n",
              "      <td>for layout 2 weve fixed problems and added som...</td>\n",
              "    </tr>\n",
              "    <tr>\n",
              "      <th>4</th>\n",
              "      <td>id4 gesamtzucker id6bei futtermitteln f r scha...</td>\n",
              "      <td>id4 total sugars id6in case of feedingstuffs f...</td>\n",
              "    </tr>\n",
              "    <tr>\n",
              "      <th>...</th>\n",
              "      <td>...</td>\n",
              "      <td>...</td>\n",
              "    </tr>\n",
              "    <tr>\n",
              "      <th>1349995</th>\n",
              "      <td>wann m chten sie im innside d sseldorf seester...</td>\n",
              "      <td>when would you like to stay at the innside d s...</td>\n",
              "    </tr>\n",
              "    <tr>\n",
              "      <th>1349996</th>\n",
              "      <td>richter elektronik ist leiterplattenhersteller...</td>\n",
              "      <td>richter elektronik is a manufacturer of techno...</td>\n",
              "    </tr>\n",
              "    <tr>\n",
              "      <th>1349997</th>\n",
              "      <td>au erdem ist er jahr f r jahr beim giro ditali...</td>\n",
              "      <td>with his collection of unusual bicycles didi w...</td>\n",
              "    </tr>\n",
              "    <tr>\n",
              "      <th>1349998</th>\n",
              "      <td>beflex design hat f r den tender exklusives ho...</td>\n",
              "      <td>our company was asked for the production of th...</td>\n",
              "    </tr>\n",
              "    <tr>\n",
              "      <th>1349999</th>\n",
              "      <td>der anstieg gegen ber den vorjahren ergibt sic...</td>\n",
              "      <td>this increase compared with previous years is ...</td>\n",
              "    </tr>\n",
              "  </tbody>\n",
              "</table>\n",
              "<p>1350000 rows × 2 columns</p>\n",
              "</div>\n",
              "    <div class=\"colab-df-buttons\">\n",
              "\n",
              "  <div class=\"colab-df-container\">\n",
              "    <button class=\"colab-df-convert\" onclick=\"convertToInteractive('df-b46287a2-1837-4acc-82eb-06d31ecb84c5')\"\n",
              "            title=\"Convert this dataframe to an interactive table.\"\n",
              "            style=\"display:none;\">\n",
              "\n",
              "  <svg xmlns=\"http://www.w3.org/2000/svg\" height=\"24px\" viewBox=\"0 -960 960 960\">\n",
              "    <path d=\"M120-120v-720h720v720H120Zm60-500h600v-160H180v160Zm220 220h160v-160H400v160Zm0 220h160v-160H400v160ZM180-400h160v-160H180v160Zm440 0h160v-160H620v160ZM180-180h160v-160H180v160Zm440 0h160v-160H620v160Z\"/>\n",
              "  </svg>\n",
              "    </button>\n",
              "\n",
              "  <style>\n",
              "    .colab-df-container {\n",
              "      display:flex;\n",
              "      gap: 12px;\n",
              "    }\n",
              "\n",
              "    .colab-df-convert {\n",
              "      background-color: #E8F0FE;\n",
              "      border: none;\n",
              "      border-radius: 50%;\n",
              "      cursor: pointer;\n",
              "      display: none;\n",
              "      fill: #1967D2;\n",
              "      height: 32px;\n",
              "      padding: 0 0 0 0;\n",
              "      width: 32px;\n",
              "    }\n",
              "\n",
              "    .colab-df-convert:hover {\n",
              "      background-color: #E2EBFA;\n",
              "      box-shadow: 0px 1px 2px rgba(60, 64, 67, 0.3), 0px 1px 3px 1px rgba(60, 64, 67, 0.15);\n",
              "      fill: #174EA6;\n",
              "    }\n",
              "\n",
              "    .colab-df-buttons div {\n",
              "      margin-bottom: 4px;\n",
              "    }\n",
              "\n",
              "    [theme=dark] .colab-df-convert {\n",
              "      background-color: #3B4455;\n",
              "      fill: #D2E3FC;\n",
              "    }\n",
              "\n",
              "    [theme=dark] .colab-df-convert:hover {\n",
              "      background-color: #434B5C;\n",
              "      box-shadow: 0px 1px 3px 1px rgba(0, 0, 0, 0.15);\n",
              "      filter: drop-shadow(0px 1px 2px rgba(0, 0, 0, 0.3));\n",
              "      fill: #FFFFFF;\n",
              "    }\n",
              "  </style>\n",
              "\n",
              "    <script>\n",
              "      const buttonEl =\n",
              "        document.querySelector('#df-b46287a2-1837-4acc-82eb-06d31ecb84c5 button.colab-df-convert');\n",
              "      buttonEl.style.display =\n",
              "        google.colab.kernel.accessAllowed ? 'block' : 'none';\n",
              "\n",
              "      async function convertToInteractive(key) {\n",
              "        const element = document.querySelector('#df-b46287a2-1837-4acc-82eb-06d31ecb84c5');\n",
              "        const dataTable =\n",
              "          await google.colab.kernel.invokeFunction('convertToInteractive',\n",
              "                                                    [key], {});\n",
              "        if (!dataTable) return;\n",
              "\n",
              "        const docLinkHtml = 'Like what you see? Visit the ' +\n",
              "          '<a target=\"_blank\" href=https://colab.research.google.com/notebooks/data_table.ipynb>data table notebook</a>'\n",
              "          + ' to learn more about interactive tables.';\n",
              "        element.innerHTML = '';\n",
              "        dataTable['output_type'] = 'display_data';\n",
              "        await google.colab.output.renderOutput(dataTable, element);\n",
              "        const docLink = document.createElement('div');\n",
              "        docLink.innerHTML = docLinkHtml;\n",
              "        element.appendChild(docLink);\n",
              "      }\n",
              "    </script>\n",
              "  </div>\n",
              "\n",
              "\n",
              "<div id=\"df-e666e521-7d52-4f1b-ae58-1bba76e94d55\">\n",
              "  <button class=\"colab-df-quickchart\" onclick=\"quickchart('df-e666e521-7d52-4f1b-ae58-1bba76e94d55')\"\n",
              "            title=\"Suggest charts\"\n",
              "            style=\"display:none;\">\n",
              "\n",
              "<svg xmlns=\"http://www.w3.org/2000/svg\" height=\"24px\"viewBox=\"0 0 24 24\"\n",
              "     width=\"24px\">\n",
              "    <g>\n",
              "        <path d=\"M19 3H5c-1.1 0-2 .9-2 2v14c0 1.1.9 2 2 2h14c1.1 0 2-.9 2-2V5c0-1.1-.9-2-2-2zM9 17H7v-7h2v7zm4 0h-2V7h2v10zm4 0h-2v-4h2v4z\"/>\n",
              "    </g>\n",
              "</svg>\n",
              "  </button>\n",
              "\n",
              "<style>\n",
              "  .colab-df-quickchart {\n",
              "      --bg-color: #E8F0FE;\n",
              "      --fill-color: #1967D2;\n",
              "      --hover-bg-color: #E2EBFA;\n",
              "      --hover-fill-color: #174EA6;\n",
              "      --disabled-fill-color: #AAA;\n",
              "      --disabled-bg-color: #DDD;\n",
              "  }\n",
              "\n",
              "  [theme=dark] .colab-df-quickchart {\n",
              "      --bg-color: #3B4455;\n",
              "      --fill-color: #D2E3FC;\n",
              "      --hover-bg-color: #434B5C;\n",
              "      --hover-fill-color: #FFFFFF;\n",
              "      --disabled-bg-color: #3B4455;\n",
              "      --disabled-fill-color: #666;\n",
              "  }\n",
              "\n",
              "  .colab-df-quickchart {\n",
              "    background-color: var(--bg-color);\n",
              "    border: none;\n",
              "    border-radius: 50%;\n",
              "    cursor: pointer;\n",
              "    display: none;\n",
              "    fill: var(--fill-color);\n",
              "    height: 32px;\n",
              "    padding: 0;\n",
              "    width: 32px;\n",
              "  }\n",
              "\n",
              "  .colab-df-quickchart:hover {\n",
              "    background-color: var(--hover-bg-color);\n",
              "    box-shadow: 0 1px 2px rgba(60, 64, 67, 0.3), 0 1px 3px 1px rgba(60, 64, 67, 0.15);\n",
              "    fill: var(--button-hover-fill-color);\n",
              "  }\n",
              "\n",
              "  .colab-df-quickchart-complete:disabled,\n",
              "  .colab-df-quickchart-complete:disabled:hover {\n",
              "    background-color: var(--disabled-bg-color);\n",
              "    fill: var(--disabled-fill-color);\n",
              "    box-shadow: none;\n",
              "  }\n",
              "\n",
              "  .colab-df-spinner {\n",
              "    border: 2px solid var(--fill-color);\n",
              "    border-color: transparent;\n",
              "    border-bottom-color: var(--fill-color);\n",
              "    animation:\n",
              "      spin 1s steps(1) infinite;\n",
              "  }\n",
              "\n",
              "  @keyframes spin {\n",
              "    0% {\n",
              "      border-color: transparent;\n",
              "      border-bottom-color: var(--fill-color);\n",
              "      border-left-color: var(--fill-color);\n",
              "    }\n",
              "    20% {\n",
              "      border-color: transparent;\n",
              "      border-left-color: var(--fill-color);\n",
              "      border-top-color: var(--fill-color);\n",
              "    }\n",
              "    30% {\n",
              "      border-color: transparent;\n",
              "      border-left-color: var(--fill-color);\n",
              "      border-top-color: var(--fill-color);\n",
              "      border-right-color: var(--fill-color);\n",
              "    }\n",
              "    40% {\n",
              "      border-color: transparent;\n",
              "      border-right-color: var(--fill-color);\n",
              "      border-top-color: var(--fill-color);\n",
              "    }\n",
              "    60% {\n",
              "      border-color: transparent;\n",
              "      border-right-color: var(--fill-color);\n",
              "    }\n",
              "    80% {\n",
              "      border-color: transparent;\n",
              "      border-right-color: var(--fill-color);\n",
              "      border-bottom-color: var(--fill-color);\n",
              "    }\n",
              "    90% {\n",
              "      border-color: transparent;\n",
              "      border-bottom-color: var(--fill-color);\n",
              "    }\n",
              "  }\n",
              "</style>\n",
              "\n",
              "  <script>\n",
              "    async function quickchart(key) {\n",
              "      const quickchartButtonEl =\n",
              "        document.querySelector('#' + key + ' button');\n",
              "      quickchartButtonEl.disabled = true;  // To prevent multiple clicks.\n",
              "      quickchartButtonEl.classList.add('colab-df-spinner');\n",
              "      try {\n",
              "        const charts = await google.colab.kernel.invokeFunction(\n",
              "            'suggestCharts', [key], {});\n",
              "      } catch (error) {\n",
              "        console.error('Error during call to suggestCharts:', error);\n",
              "      }\n",
              "      quickchartButtonEl.classList.remove('colab-df-spinner');\n",
              "      quickchartButtonEl.classList.add('colab-df-quickchart-complete');\n",
              "    }\n",
              "    (() => {\n",
              "      let quickchartButtonEl =\n",
              "        document.querySelector('#df-e666e521-7d52-4f1b-ae58-1bba76e94d55 button');\n",
              "      quickchartButtonEl.style.display =\n",
              "        google.colab.kernel.accessAllowed ? 'block' : 'none';\n",
              "    })();\n",
              "  </script>\n",
              "</div>\n",
              "    </div>\n",
              "  </div>\n"
            ]
          },
          "metadata": {},
          "execution_count": 34
        }
      ]
    },
    {
      "cell_type": "code",
      "source": [
        "test_data"
      ],
      "metadata": {
        "colab": {
          "base_uri": "https://localhost:8080/",
          "height": 423
        },
        "id": "jnYxV8grwZCV",
        "outputId": "ed6d4f8c-c164-4571-ece8-5673f32a346d"
      },
      "execution_count": null,
      "outputs": [
        {
          "output_type": "execute_result",
          "data": {
            "text/plain": [
              "                                                   German  \\\n",
              "0       um zuk nftig bilder direkt an getty images inc...   \n",
              "1       das immobilienb ro von  dodi befindet sich auc...   \n",
              "2       zum gl ck wieder erh hen abgeholt hat wo er au...   \n",
              "3       nutzen sie rijeka24com f r ihre urlaubsvorbere...   \n",
              "4       besonders hervorzuheben sind die sehr freundli...   \n",
              "...                                                   ...   \n",
              "149995  an einem wochenende bekommt man ein gef hl f r...   \n",
              "149996  sie besteht aus kalkstein ist rund elf meter h...   \n",
              "149997    sie ist teil des parc naturel r gional de loise   \n",
              "149998  unsere galerieebene mit blick auf die start un...   \n",
              "149999  es reicht einfach f r eine anonyme regierung z...   \n",
              "\n",
              "                                                  English  \n",
              "0       to be able to export images to the getty image...  \n",
              "1       services of angela farm appartement woodenbung...  \n",
              "2       fortunately again raising has picked up where ...  \n",
              "3       rijeka24com offers you travel information for ...  \n",
              "4       when we got back later we found that the room ...  \n",
              "...                                                   ...  \n",
              "149995  in a weekend youll get a taste for the magnifi...  \n",
              "149996  it consists of limestone and is about eleven m...  \n",
              "149997       it is part of parc naturel r gional de loise  \n",
              "149998  our gallery level is 2000 m2 in size and looks...  \n",
              "149999  youre fed up with working for an anonymous gov...  \n",
              "\n",
              "[150000 rows x 2 columns]"
            ],
            "text/html": [
              "\n",
              "  <div id=\"df-b048f616-52f2-483d-bb95-3361e6b53113\" class=\"colab-df-container\">\n",
              "    <div>\n",
              "<style scoped>\n",
              "    .dataframe tbody tr th:only-of-type {\n",
              "        vertical-align: middle;\n",
              "    }\n",
              "\n",
              "    .dataframe tbody tr th {\n",
              "        vertical-align: top;\n",
              "    }\n",
              "\n",
              "    .dataframe thead th {\n",
              "        text-align: right;\n",
              "    }\n",
              "</style>\n",
              "<table border=\"1\" class=\"dataframe\">\n",
              "  <thead>\n",
              "    <tr style=\"text-align: right;\">\n",
              "      <th></th>\n",
              "      <th>German</th>\n",
              "      <th>English</th>\n",
              "    </tr>\n",
              "  </thead>\n",
              "  <tbody>\n",
              "    <tr>\n",
              "      <th>0</th>\n",
              "      <td>um zuk nftig bilder direkt an getty images inc...</td>\n",
              "      <td>to be able to export images to the getty image...</td>\n",
              "    </tr>\n",
              "    <tr>\n",
              "      <th>1</th>\n",
              "      <td>das immobilienb ro von  dodi befindet sich auc...</td>\n",
              "      <td>services of angela farm appartement woodenbung...</td>\n",
              "    </tr>\n",
              "    <tr>\n",
              "      <th>2</th>\n",
              "      <td>zum gl ck wieder erh hen abgeholt hat wo er au...</td>\n",
              "      <td>fortunately again raising has picked up where ...</td>\n",
              "    </tr>\n",
              "    <tr>\n",
              "      <th>3</th>\n",
              "      <td>nutzen sie rijeka24com f r ihre urlaubsvorbere...</td>\n",
              "      <td>rijeka24com offers you travel information for ...</td>\n",
              "    </tr>\n",
              "    <tr>\n",
              "      <th>4</th>\n",
              "      <td>besonders hervorzuheben sind die sehr freundli...</td>\n",
              "      <td>when we got back later we found that the room ...</td>\n",
              "    </tr>\n",
              "    <tr>\n",
              "      <th>...</th>\n",
              "      <td>...</td>\n",
              "      <td>...</td>\n",
              "    </tr>\n",
              "    <tr>\n",
              "      <th>149995</th>\n",
              "      <td>an einem wochenende bekommt man ein gef hl f r...</td>\n",
              "      <td>in a weekend youll get a taste for the magnifi...</td>\n",
              "    </tr>\n",
              "    <tr>\n",
              "      <th>149996</th>\n",
              "      <td>sie besteht aus kalkstein ist rund elf meter h...</td>\n",
              "      <td>it consists of limestone and is about eleven m...</td>\n",
              "    </tr>\n",
              "    <tr>\n",
              "      <th>149997</th>\n",
              "      <td>sie ist teil des parc naturel r gional de loise</td>\n",
              "      <td>it is part of parc naturel r gional de loise</td>\n",
              "    </tr>\n",
              "    <tr>\n",
              "      <th>149998</th>\n",
              "      <td>unsere galerieebene mit blick auf die start un...</td>\n",
              "      <td>our gallery level is 2000 m2 in size and looks...</td>\n",
              "    </tr>\n",
              "    <tr>\n",
              "      <th>149999</th>\n",
              "      <td>es reicht einfach f r eine anonyme regierung z...</td>\n",
              "      <td>youre fed up with working for an anonymous gov...</td>\n",
              "    </tr>\n",
              "  </tbody>\n",
              "</table>\n",
              "<p>150000 rows × 2 columns</p>\n",
              "</div>\n",
              "    <div class=\"colab-df-buttons\">\n",
              "\n",
              "  <div class=\"colab-df-container\">\n",
              "    <button class=\"colab-df-convert\" onclick=\"convertToInteractive('df-b048f616-52f2-483d-bb95-3361e6b53113')\"\n",
              "            title=\"Convert this dataframe to an interactive table.\"\n",
              "            style=\"display:none;\">\n",
              "\n",
              "  <svg xmlns=\"http://www.w3.org/2000/svg\" height=\"24px\" viewBox=\"0 -960 960 960\">\n",
              "    <path d=\"M120-120v-720h720v720H120Zm60-500h600v-160H180v160Zm220 220h160v-160H400v160Zm0 220h160v-160H400v160ZM180-400h160v-160H180v160Zm440 0h160v-160H620v160ZM180-180h160v-160H180v160Zm440 0h160v-160H620v160Z\"/>\n",
              "  </svg>\n",
              "    </button>\n",
              "\n",
              "  <style>\n",
              "    .colab-df-container {\n",
              "      display:flex;\n",
              "      gap: 12px;\n",
              "    }\n",
              "\n",
              "    .colab-df-convert {\n",
              "      background-color: #E8F0FE;\n",
              "      border: none;\n",
              "      border-radius: 50%;\n",
              "      cursor: pointer;\n",
              "      display: none;\n",
              "      fill: #1967D2;\n",
              "      height: 32px;\n",
              "      padding: 0 0 0 0;\n",
              "      width: 32px;\n",
              "    }\n",
              "\n",
              "    .colab-df-convert:hover {\n",
              "      background-color: #E2EBFA;\n",
              "      box-shadow: 0px 1px 2px rgba(60, 64, 67, 0.3), 0px 1px 3px 1px rgba(60, 64, 67, 0.15);\n",
              "      fill: #174EA6;\n",
              "    }\n",
              "\n",
              "    .colab-df-buttons div {\n",
              "      margin-bottom: 4px;\n",
              "    }\n",
              "\n",
              "    [theme=dark] .colab-df-convert {\n",
              "      background-color: #3B4455;\n",
              "      fill: #D2E3FC;\n",
              "    }\n",
              "\n",
              "    [theme=dark] .colab-df-convert:hover {\n",
              "      background-color: #434B5C;\n",
              "      box-shadow: 0px 1px 3px 1px rgba(0, 0, 0, 0.15);\n",
              "      filter: drop-shadow(0px 1px 2px rgba(0, 0, 0, 0.3));\n",
              "      fill: #FFFFFF;\n",
              "    }\n",
              "  </style>\n",
              "\n",
              "    <script>\n",
              "      const buttonEl =\n",
              "        document.querySelector('#df-b048f616-52f2-483d-bb95-3361e6b53113 button.colab-df-convert');\n",
              "      buttonEl.style.display =\n",
              "        google.colab.kernel.accessAllowed ? 'block' : 'none';\n",
              "\n",
              "      async function convertToInteractive(key) {\n",
              "        const element = document.querySelector('#df-b048f616-52f2-483d-bb95-3361e6b53113');\n",
              "        const dataTable =\n",
              "          await google.colab.kernel.invokeFunction('convertToInteractive',\n",
              "                                                    [key], {});\n",
              "        if (!dataTable) return;\n",
              "\n",
              "        const docLinkHtml = 'Like what you see? Visit the ' +\n",
              "          '<a target=\"_blank\" href=https://colab.research.google.com/notebooks/data_table.ipynb>data table notebook</a>'\n",
              "          + ' to learn more about interactive tables.';\n",
              "        element.innerHTML = '';\n",
              "        dataTable['output_type'] = 'display_data';\n",
              "        await google.colab.output.renderOutput(dataTable, element);\n",
              "        const docLink = document.createElement('div');\n",
              "        docLink.innerHTML = docLinkHtml;\n",
              "        element.appendChild(docLink);\n",
              "      }\n",
              "    </script>\n",
              "  </div>\n",
              "\n",
              "\n",
              "<div id=\"df-d18925ce-ffd8-4a6e-8398-233fe538cc29\">\n",
              "  <button class=\"colab-df-quickchart\" onclick=\"quickchart('df-d18925ce-ffd8-4a6e-8398-233fe538cc29')\"\n",
              "            title=\"Suggest charts\"\n",
              "            style=\"display:none;\">\n",
              "\n",
              "<svg xmlns=\"http://www.w3.org/2000/svg\" height=\"24px\"viewBox=\"0 0 24 24\"\n",
              "     width=\"24px\">\n",
              "    <g>\n",
              "        <path d=\"M19 3H5c-1.1 0-2 .9-2 2v14c0 1.1.9 2 2 2h14c1.1 0 2-.9 2-2V5c0-1.1-.9-2-2-2zM9 17H7v-7h2v7zm4 0h-2V7h2v10zm4 0h-2v-4h2v4z\"/>\n",
              "    </g>\n",
              "</svg>\n",
              "  </button>\n",
              "\n",
              "<style>\n",
              "  .colab-df-quickchart {\n",
              "      --bg-color: #E8F0FE;\n",
              "      --fill-color: #1967D2;\n",
              "      --hover-bg-color: #E2EBFA;\n",
              "      --hover-fill-color: #174EA6;\n",
              "      --disabled-fill-color: #AAA;\n",
              "      --disabled-bg-color: #DDD;\n",
              "  }\n",
              "\n",
              "  [theme=dark] .colab-df-quickchart {\n",
              "      --bg-color: #3B4455;\n",
              "      --fill-color: #D2E3FC;\n",
              "      --hover-bg-color: #434B5C;\n",
              "      --hover-fill-color: #FFFFFF;\n",
              "      --disabled-bg-color: #3B4455;\n",
              "      --disabled-fill-color: #666;\n",
              "  }\n",
              "\n",
              "  .colab-df-quickchart {\n",
              "    background-color: var(--bg-color);\n",
              "    border: none;\n",
              "    border-radius: 50%;\n",
              "    cursor: pointer;\n",
              "    display: none;\n",
              "    fill: var(--fill-color);\n",
              "    height: 32px;\n",
              "    padding: 0;\n",
              "    width: 32px;\n",
              "  }\n",
              "\n",
              "  .colab-df-quickchart:hover {\n",
              "    background-color: var(--hover-bg-color);\n",
              "    box-shadow: 0 1px 2px rgba(60, 64, 67, 0.3), 0 1px 3px 1px rgba(60, 64, 67, 0.15);\n",
              "    fill: var(--button-hover-fill-color);\n",
              "  }\n",
              "\n",
              "  .colab-df-quickchart-complete:disabled,\n",
              "  .colab-df-quickchart-complete:disabled:hover {\n",
              "    background-color: var(--disabled-bg-color);\n",
              "    fill: var(--disabled-fill-color);\n",
              "    box-shadow: none;\n",
              "  }\n",
              "\n",
              "  .colab-df-spinner {\n",
              "    border: 2px solid var(--fill-color);\n",
              "    border-color: transparent;\n",
              "    border-bottom-color: var(--fill-color);\n",
              "    animation:\n",
              "      spin 1s steps(1) infinite;\n",
              "  }\n",
              "\n",
              "  @keyframes spin {\n",
              "    0% {\n",
              "      border-color: transparent;\n",
              "      border-bottom-color: var(--fill-color);\n",
              "      border-left-color: var(--fill-color);\n",
              "    }\n",
              "    20% {\n",
              "      border-color: transparent;\n",
              "      border-left-color: var(--fill-color);\n",
              "      border-top-color: var(--fill-color);\n",
              "    }\n",
              "    30% {\n",
              "      border-color: transparent;\n",
              "      border-left-color: var(--fill-color);\n",
              "      border-top-color: var(--fill-color);\n",
              "      border-right-color: var(--fill-color);\n",
              "    }\n",
              "    40% {\n",
              "      border-color: transparent;\n",
              "      border-right-color: var(--fill-color);\n",
              "      border-top-color: var(--fill-color);\n",
              "    }\n",
              "    60% {\n",
              "      border-color: transparent;\n",
              "      border-right-color: var(--fill-color);\n",
              "    }\n",
              "    80% {\n",
              "      border-color: transparent;\n",
              "      border-right-color: var(--fill-color);\n",
              "      border-bottom-color: var(--fill-color);\n",
              "    }\n",
              "    90% {\n",
              "      border-color: transparent;\n",
              "      border-bottom-color: var(--fill-color);\n",
              "    }\n",
              "  }\n",
              "</style>\n",
              "\n",
              "  <script>\n",
              "    async function quickchart(key) {\n",
              "      const quickchartButtonEl =\n",
              "        document.querySelector('#' + key + ' button');\n",
              "      quickchartButtonEl.disabled = true;  // To prevent multiple clicks.\n",
              "      quickchartButtonEl.classList.add('colab-df-spinner');\n",
              "      try {\n",
              "        const charts = await google.colab.kernel.invokeFunction(\n",
              "            'suggestCharts', [key], {});\n",
              "      } catch (error) {\n",
              "        console.error('Error during call to suggestCharts:', error);\n",
              "      }\n",
              "      quickchartButtonEl.classList.remove('colab-df-spinner');\n",
              "      quickchartButtonEl.classList.add('colab-df-quickchart-complete');\n",
              "    }\n",
              "    (() => {\n",
              "      let quickchartButtonEl =\n",
              "        document.querySelector('#df-d18925ce-ffd8-4a6e-8398-233fe538cc29 button');\n",
              "      quickchartButtonEl.style.display =\n",
              "        google.colab.kernel.accessAllowed ? 'block' : 'none';\n",
              "    })();\n",
              "  </script>\n",
              "</div>\n",
              "    </div>\n",
              "  </div>\n"
            ]
          },
          "metadata": {},
          "execution_count": 35
        }
      ]
    },
    {
      "cell_type": "code",
      "source": [
        "#Tokenization on Training/testing sets\n",
        "englistok=tokenization(train_data['English'])\n",
        "train_X_seq, train_X_token=englistok.texts_to_sequences(train_data['English']),englistok\n"
      ],
      "metadata": {
        "id": "vqk2_HKjsQ2b"
      },
      "execution_count": null,
      "outputs": []
    },
    {
      "cell_type": "code",
      "source": [
        "germantok=tokenization(train_data['German'])\n",
        "train_Y_seq, train_Y_token = germantok.texts_to_sequences(train_data['German']),germantok"
      ],
      "metadata": {
        "id": "NSasJNZzxynF"
      },
      "execution_count": null,
      "outputs": []
    },
    {
      "cell_type": "code",
      "source": [
        "trainenglishsize = len(train_X_token.word_index) + 1\n",
        "traingermansize = len(train_Y_token.word_index) + 1"
      ],
      "metadata": {
        "id": "Oizyo1TDXWXp"
      },
      "execution_count": null,
      "outputs": []
    },
    {
      "cell_type": "code",
      "source": [
        "testengTok=tokenization(test_data['English'])\n",
        "test_X_seq, test_X_token = testengTok.texts_to_sequences(test_data['English']),testengTok"
      ],
      "metadata": {
        "id": "iT4nzdTV2XgX"
      },
      "execution_count": null,
      "outputs": []
    },
    {
      "cell_type": "code",
      "source": [
        "testGermantok =tokenization(test_data['German'])\n",
        "test_Y_seq, test_Y_token = testGermantok.texts_to_sequences(test_data['German']),testGermantok\n",
        "\n",
        "testenglishsize = len(test_X_token.word_index) + 1\n",
        "testgermansize = len(test_Y_token.word_index) + 1"
      ],
      "metadata": {
        "id": "lh8o1iqOW_kd"
      },
      "execution_count": null,
      "outputs": []
    },
    {
      "cell_type": "code",
      "source": [
        "#Padding on test and train sets\n",
        "length1 = max([len(sentence) for sentence in train_X_seq])\n",
        "train_X_seq = pad_sequences(train_X_seq, maxlen = length1)"
      ],
      "metadata": {
        "id": "QwiLFawElccU"
      },
      "execution_count": null,
      "outputs": []
    },
    {
      "cell_type": "code",
      "source": [
        "length2 = max([len(sentence) for sentence in train_Y_seq])\n",
        "train_Y_seq =pad_sequences(train_Y_seq, maxlen = length2)"
      ],
      "metadata": {
        "id": "v3BP-0LhYS8A"
      },
      "execution_count": null,
      "outputs": []
    },
    {
      "cell_type": "code",
      "source": [
        "length3 = max([len(sentence) for sentence in test_X_seq])\n",
        "test_X_seq = pad_sequences(test_X_seq, maxlen = length3)\n",
        "\n",
        "length4 = max([len(sentence) for sentence in test_Y_seq])\n",
        "test_Y_seq = pad_sequences(test_Y_seq, maxlen = length4)"
      ],
      "metadata": {
        "id": "6iBmmm1tYU_k"
      },
      "execution_count": null,
      "outputs": []
    },
    {
      "cell_type": "code",
      "source": [
        "from keras.preprocessing.sequence import pad_sequences\n",
        "from keras.models import Model, Sequential\n",
        "from keras.layers import GU, Input, Dense, TimeDistributed, Activation, RepeatVector, Bidirectional,LSTM\n",
        "from keras.layers.embeddings import Embedding\n",
        "from keras.losses import sparse_categorical_crossentropy\n",
        "from keras.callbacks import ModelCheckpoint"
      ],
      "metadata": {
        "id": "ixU3LCr34n0e"
      },
      "execution_count": null,
      "outputs": []
    },
    {
      "cell_type": "code",
      "source": [],
      "metadata": {
        "id": "Pggd70UHu4Ej"
      },
      "execution_count": null,
      "outputs": []
    },
    {
      "cell_type": "code",
      "source": [],
      "metadata": {
        "id": "lT0raN1H44AC"
      },
      "execution_count": null,
      "outputs": []
    },
    {
      "cell_type": "code",
      "source": [],
      "metadata": {
        "id": "gb5DtKI15A3J"
      },
      "execution_count": null,
      "outputs": []
    }
  ]
}